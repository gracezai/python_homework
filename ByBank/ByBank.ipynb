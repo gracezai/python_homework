{
 "cells": [
  {
   "cell_type": "code",
   "execution_count": 24,
   "id": "89ad602c-7a33-4aab-8977-9e1ecb99e457",
   "metadata": {},
   "outputs": [
    {
     "name": "stdout",
     "output_type": "stream",
     "text": [
      "Financial Analysis\n",
      "------------------------------------------------\n",
      "Total Months: 86\n",
      "Total: $38382578\n",
      "Average Change: $-2315.12\n",
      "Greatest Increase in Profits: Feb-2012 ($1926159)\n",
      "Greatest Decrease in Profits: Sep-2013 ($-2196167)\n"
     ]
    }
   ],
   "source": [
    "# Imports\n",
    "import csv\n",
    "import pandas as pd\n",
    "\n",
    "# Initialize metric variables\n",
    "total_pnl = 0\n",
    "month_count = 0\n",
    "average_pnl = 0\n",
    "total_changes = 0\n",
    "\n",
    "# Initialize minimum key-value pair (The greatest decrease in losses.)\n",
    "minimum_changes_key = \"\"\n",
    "minimum_changes_value = 0\n",
    "\n",
    "# Initialize maximum key-value pair (The greatest increase in profits.)\n",
    "maximum_changes_key = \"\"\n",
    "maximum_changes_value = 0\n",
    "\n",
    "# Open the csv file as an object\n",
    "reader = pd.read_csv(\"02-Python_Unit 2 Homework_PyBank_Resources_budget_data.csv\")\n",
    "\n",
    "# Create a column called Previous Month Profit/Losses with shifted value from column Profit/Losses \n",
    "reader[\"Previous Month Profit/Losses\"] = reader[\"Profit/Losses\"].shift(1)\n",
    "\n",
    "# Calculate monthly changes in Profit/Losses\n",
    "reader[\"Change in Profit/Losses\"] = reader[\"Profit/Losses\"] - reader[\"Previous Month Profit/Losses\"]\n",
    "reader[\"Change in Profit/Losses\"] = reader[\"Change in Profit/Losses\"].fillna(0)\n",
    "reader[\"Change in Profit/Losses\"] = reader[\"Change in Profit/Losses\"].astype('int64')\n",
    "\n",
    "# Convert csv to dict\n",
    "budget_data = reader.set_index(\"Date\")[\"Profit/Losses\"].to_dict()\n",
    "changes_pnl_data = reader.set_index(\"Date\")[\"Change in Profit/Losses\"].to_dict()\n",
    "\n",
    "# Calculate net total amount of Profit/Losses and total number of months\n",
    "for operation_month, monthly_pnl in budget_data.items():\n",
    "    \n",
    "    total_pnl += int(monthly_pnl)\n",
    "    month_count += 1 \n",
    "\n",
    "# Logic and calculation for minimum, maximum and average changes in Profit/Losses over the entire period\n",
    "for key, value in changes_pnl_data.items():   \n",
    "   \n",
    "    # Logic to determine minimum value and associated key\n",
    "    if minimum_changes_value == 0:\n",
    "        minimum_changes_value = value\n",
    "        minimum_key = key\n",
    "    elif value < minimum_changes_value:\n",
    "        minimum_changes_value = value\n",
    "        minimum_changes_key = key\n",
    "\n",
    "    # Logic to determine maximum value and associated key\n",
    "    if value > maximum_changes_value:\n",
    "        maximum_changes_value = value\n",
    "        maximum_changes_key = key\n",
    "        \n",
    "    # Calculate average changes in Profit/Losses\n",
    "    total_changes += int(value)\n",
    "    average_pnl = round((total_changes / (month_count - 1)), 2)\n",
    "\n",
    "# Print the metrics\n",
    "print(f\"Financial Analysis\")\n",
    "print(\"------------------------------------------------\")\n",
    "print(f\"Total Months: {month_count}\")\n",
    "print(f\"Total: ${total_pnl}\")\n",
    "print(f\"Average Change: ${average_pnl}\")\n",
    "print(f\"Greatest Increase in Profits: {maximum_changes_key} (${maximum_changes_value})\")\n",
    "print(f\"Greatest Decrease in Profits: {minimum_changes_key} (${minimum_changes_value})\")\n",
    "\n",
    "# Export output to text file\n",
    "with open(\"PyBank_output.txt\", \"w\") as output_file:\n",
    "    output_file.write(f\"Financial Analysis\\n------------------------------------------------\\nTotal Months: {month_count}\\nTotal: ${total_pnl}\\nAverage Change: ${average_pnl}\\nGreatest Increase in Profits: {maximum_changes_key} (${maximum_changes_value})\\nGreatest Decrease in Profits: {minimum_changes_key} (${minimum_changes_value})\")"
   ]
  },
  {
   "cell_type": "code",
   "execution_count": null,
   "id": "21ad5d5d-53aa-4340-9418-b708141eef2c",
   "metadata": {},
   "outputs": [],
   "source": []
  },
  {
   "cell_type": "code",
   "execution_count": null,
   "id": "527cdfea-c0f3-466d-b291-d979f0f8a572",
   "metadata": {},
   "outputs": [],
   "source": []
  },
  {
   "cell_type": "code",
   "execution_count": null,
   "id": "450c8a47-656d-4dba-a285-e07c914b098b",
   "metadata": {},
   "outputs": [],
   "source": []
  }
 ],
 "metadata": {
  "kernelspec": {
   "display_name": "Python 3",
   "language": "python",
   "name": "python3"
  },
  "language_info": {
   "codemirror_mode": {
    "name": "ipython",
    "version": 3
   },
   "file_extension": ".py",
   "mimetype": "text/x-python",
   "name": "python",
   "nbconvert_exporter": "python",
   "pygments_lexer": "ipython3",
   "version": "3.8.5"
  }
 },
 "nbformat": 4,
 "nbformat_minor": 5
}
